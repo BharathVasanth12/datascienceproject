{
 "cells": [
  {
   "metadata": {
    "ExecuteTime": {
     "end_time": "2025-08-21T10:38:33.590345Z",
     "start_time": "2025-08-21T10:38:33.585470Z"
    }
   },
   "cell_type": "code",
   "source": "pwd",
   "id": "48bd9159bc3fa6bf",
   "outputs": [
    {
     "data": {
      "text/plain": [
       "'/Users/bhavasan/learning/datascienceproject/research'"
      ]
     },
     "execution_count": 1,
     "metadata": {},
     "output_type": "execute_result"
    }
   ],
   "execution_count": 1
  },
  {
   "metadata": {
    "ExecuteTime": {
     "end_time": "2025-08-21T10:38:33.615430Z",
     "start_time": "2025-08-21T10:38:33.613856Z"
    }
   },
   "cell_type": "code",
   "source": "example = {\"key1\": \"value1\", \"key2\": \"value2\"}",
   "id": "c194e75438a91a6",
   "outputs": [],
   "execution_count": 2
  },
  {
   "metadata": {
    "ExecuteTime": {
     "end_time": "2025-08-21T10:38:33.668144Z",
     "start_time": "2025-08-21T10:38:33.665985Z"
    }
   },
   "cell_type": "code",
   "source": "example[\"key1\"]",
   "id": "92a44140ec6cda00",
   "outputs": [
    {
     "data": {
      "text/plain": [
       "'value1'"
      ]
     },
     "execution_count": 3,
     "metadata": {},
     "output_type": "execute_result"
    }
   ],
   "execution_count": 3
  },
  {
   "metadata": {
    "ExecuteTime": {
     "end_time": "2025-08-17T16:27:00.794168Z",
     "start_time": "2025-08-17T16:27:00.782705Z"
    }
   },
   "cell_type": "code",
   "source": "example.key1",
   "id": "75691c3b029f3e3",
   "outputs": [
    {
     "ename": "AttributeError",
     "evalue": "'dict' object has no attribute 'key1'",
     "output_type": "error",
     "traceback": [
      "\u001B[0;31m---------------------------------------------------------------------------\u001B[0m",
      "\u001B[0;31mAttributeError\u001B[0m                            Traceback (most recent call last)",
      "Cell \u001B[0;32mIn[6], line 1\u001B[0m\n\u001B[0;32m----> 1\u001B[0m \u001B[43mexample\u001B[49m\u001B[38;5;241;43m.\u001B[39;49m\u001B[43mkey1\u001B[49m\n",
      "\u001B[0;31mAttributeError\u001B[0m: 'dict' object has no attribute 'key1'"
     ]
    }
   ],
   "execution_count": 6
  },
  {
   "metadata": {
    "ExecuteTime": {
     "end_time": "2025-08-17T16:28:28.596622Z",
     "start_time": "2025-08-17T16:28:28.594670Z"
    }
   },
   "cell_type": "code",
   "source": "from box import ConfigBox",
   "id": "624f6809901eb260",
   "outputs": [],
   "execution_count": 9
  },
  {
   "metadata": {
    "ExecuteTime": {
     "end_time": "2025-08-17T16:28:50.049167Z",
     "start_time": "2025-08-17T16:28:50.043728Z"
    }
   },
   "cell_type": "code",
   "source": [
    "example = ConfigBox({\"key1\": \"value1\", \"key2\": \"value2\"})\n",
    "example.key1"
   ],
   "id": "d2e673690f75a70c",
   "outputs": [
    {
     "data": {
      "text/plain": [
       "'value1'"
      ]
     },
     "execution_count": 10,
     "metadata": {},
     "output_type": "execute_result"
    }
   ],
   "execution_count": 10
  },
  {
   "metadata": {},
   "cell_type": "code",
   "outputs": [],
   "execution_count": null,
   "source": "",
   "id": "35d95d987881c5df"
  }
 ],
 "metadata": {
  "kernelspec": {
   "name": "python3",
   "language": "python",
   "display_name": "Python 3 (ipykernel)"
  }
 },
 "nbformat": 4,
 "nbformat_minor": 5
}
